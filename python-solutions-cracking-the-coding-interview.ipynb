{
 "cells": [
  {
   "cell_type": "markdown",
   "metadata": {},
   "source": [
    "# Cracking the Python Interview"
   ]
  },
  {
   "cell_type": "markdown",
   "metadata": {},
   "source": [
    "## A python challenge by Chris Sawtelle"
   ]
  },
  {
   "cell_type": "code",
   "execution_count": null,
   "metadata": {
    "collapsed": false
   },
   "outputs": [],
   "source": []
  },
  {
   "cell_type": "markdown",
   "metadata": {},
   "source": [
    "This will be my best attempt to solve all of the 'puzzles' in Cracking the Coding Interview 6th Edition, by Gayle Laakmann McDowell. I will be also doing my best to follow the Google Python Style Guide, as outlined here https://google.github.io/styleguide/pyguide.html. \n",
    "\n",
    "I will be trying to explain things that I feel the book skimmed over, or that I had trouble understanding. \n",
    "\n",
    "Since I love the idea behind ipython notebooks (jupyter notebooks), I will be creating a notebook to showcase the work."
   ]
  },
  {
   "cell_type": "markdown",
   "metadata": {},
   "source": [
    "### 1.1 Check if every character in a string is unique."
   ]
  },
  {
   "cell_type": "markdown",
   "metadata": {},
   "source": [
    "##### Important questions to ask,\n",
    "###### Are there any restrictions on the string? Alphanumeric, numeric, alphabetic, symbols, etc..\n",
    "I feel that this can lead to the next question, which Gayle suggests.\n",
    "\n",
    "###### Is the string ASCII or Unicode?\n",
    "However, I feel that this question might could potentially open a can of worms. It is far simpler, in my opinion, to ask the interviewer if you can assume the string is ASCII.\n",
    "\n",
    "Know the difference between a character-set and a character-encoding. In short, a character-set can be encoded, and often the set will have a corresponding encoding of the same name. A character-set is simply a list of characters, an encoding is how those characters are stored in memory."
   ]
  },
  {
   "cell_type": "markdown",
   "metadata": {},
   "source": [
    "##### Thought Process\n",
    "I first considered the fact that a python string behaves similar to a list."
   ]
  },
  {
   "cell_type": "code",
   "execution_count": 72,
   "metadata": {
    "collapsed": false
   },
   "outputs": [
    {
     "name": "stdout",
     "output_type": "stream",
     "text": [
      "0 s\n",
      "1 t\n",
      "2 r\n",
      "3 i\n",
      "4 n\n",
      "5 g\n",
      "time: 2 ms\n"
     ]
    }
   ],
   "source": [
    "example = \"string\"\n",
    "for index, character in enumerate(example):\n",
    "    print(index, character)"
   ]
  },
  {
   "cell_type": "markdown",
   "metadata": {},
   "source": [
    "Meaning that I can access any character in the string by using the square brackets like I would with a list."
   ]
  },
  {
   "cell_type": "code",
   "execution_count": 40,
   "metadata": {
    "collapsed": false
   },
   "outputs": [
    {
     "name": "stdout",
     "output_type": "stream",
     "text": [
      "i\n"
     ]
    }
   ],
   "source": [
    "print(example[3]) # Should be equal to i"
   ]
  },
  {
   "cell_type": "markdown",
   "metadata": {},
   "source": [
    "In this way I can simply roll through the string in a for loop, document the first occurence of each, and then check if its been documented already."
   ]
  },
  {
   "cell_type": "code",
   "execution_count": 242,
   "metadata": {
    "collapsed": false
   },
   "outputs": [
    {
     "name": "stdout",
     "output_type": "stream",
     "text": [
      "String contains non-unique characters\n",
      "The slowest run took 5.42 times longer than the fastest. This could mean that an intermediate result is being cached.\n",
      "100000 loops, best of 3: 2.88 µs per loop\n"
     ]
    }
   ],
   "source": [
    "non_unique_string = \"The quick brown fox jumped over the lazy dog\"  # String containing multiple instances of characters\n",
    "unique_string = \"abcdefghijklmnopqrstuvwxyz\"  # String containing only unique characters\n",
    "\n",
    "def check_unique(string):\n",
    "    character_memory = {} \n",
    "\n",
    "    for character in string:\n",
    "        if character in character_memory:\n",
    "            character_memory.clear()\n",
    "            return \"String contains non-unique characters\"\n",
    "\n",
    "        else:\n",
    "            character_memory[character] = True\n",
    "    else:\n",
    "        character_memory.clear()\n",
    "        return \"String only has unique characters\"\n",
    "\n",
    "print(check_unique(non_unique_string)) # Not the best, but at least some approx. of execution time\n",
    "%timeit check_unique(unique_string)"
   ]
  },
  {
   "cell_type": "markdown",
   "metadata": {
    "collapsed": true
   },
   "source": [
    "For some reason, %timeit breaks the algorithm. Running on an ubuntu machine looping 1000 times works, but here will return the wrong result. I suspect its an artifact of jupyter cacheing something, as the warning states. Either way, the execution time for check_unique is ~3 microseconds."
   ]
  },
  {
   "cell_type": "code",
   "execution_count": null,
   "metadata": {
    "collapsed": true
   },
   "outputs": [],
   "source": []
  },
  {
   "cell_type": "code",
   "execution_count": null,
   "metadata": {
    "collapsed": true
   },
   "outputs": [],
   "source": []
  },
  {
   "cell_type": "code",
   "execution_count": null,
   "metadata": {
    "collapsed": true
   },
   "outputs": [],
   "source": []
  },
  {
   "cell_type": "code",
   "execution_count": null,
   "metadata": {
    "collapsed": true
   },
   "outputs": [],
   "source": []
  },
  {
   "cell_type": "code",
   "execution_count": null,
   "metadata": {
    "collapsed": true
   },
   "outputs": [],
   "source": []
  },
  {
   "cell_type": "code",
   "execution_count": null,
   "metadata": {
    "collapsed": true
   },
   "outputs": [],
   "source": []
  },
  {
   "cell_type": "code",
   "execution_count": null,
   "metadata": {
    "collapsed": true
   },
   "outputs": [],
   "source": []
  }
 ],
 "metadata": {
  "kernelspec": {
   "display_name": "Python [Root]",
   "language": "python",
   "name": "Python [Root]"
  },
  "language_info": {
   "codemirror_mode": {
    "name": "ipython",
    "version": 3
   },
   "file_extension": ".py",
   "mimetype": "text/x-python",
   "name": "python",
   "nbconvert_exporter": "python",
   "pygments_lexer": "ipython3",
   "version": "3.5.2"
  }
 },
 "nbformat": 4,
 "nbformat_minor": 0
}
