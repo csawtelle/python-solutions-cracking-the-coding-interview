{
 "cells": [
  {
   "cell_type": "markdown",
   "metadata": {},
   "source": [
    "# Cracking the Python Interview\n",
    "\n",
    "## A python challenge by Chris Sawtelle\n",
    "\n",
    "    This will be my best attempt to solve all of the 'puzzles' in Cracking the Coding Interview 6th Edition, by Gayle Laakmann McDowell. I will be also doing my best to follow the Google Python Style Guide, as outlined here https://google.github.io/styleguide/pyguide.html. \n",
    "\n",
    "    I will be trying to explain things that I feel the book skimmed over, or that I had trouble understanding. \n",
    "\n",
    "    Since I love the idea behind ipython notebooks (jupyter notebooks), I will be creating a notebook to showcase the work.\n"
   ]
  },
  {
   "cell_type": "markdown",
   "metadata": {},
   "source": [
    "\n",
    "### 1.1 Check if every character in a string is unique.\n",
    "\n",
    "##### Important questions to ask,\n",
    "###### Are there any restrictions on the string? Alphanumeric, numeric, alphabetic, symbols, etc..\n",
    "    I feel that this can lead to the next question, which Gayle suggests.\n",
    "\n",
    "###### Is the string ASCII or Unicode?\n",
    "    However, I feel that this question might could potentially open a can of worms. It is far simpler, in my opinion, to ask the interviewer if you can assume the string is ASCII.\n",
    "\n",
    "    Know the difference between a character-set and a character-encoding. In short, a character-set can be encoded, and often the set will have a corresponding encoding of the same name. A character-set is simply a list of characters, an encoding is how those characters are stored in memory.\n",
    "\n",
    "##### Thought Process\n",
    "    I first considered the fact that a python string behaves similar to a list."
   ]
  },
  {
   "cell_type": "code",
   "execution_count": 244,
   "metadata": {
    "collapsed": false
   },
   "outputs": [
    {
     "name": "stdout",
     "output_type": "stream",
     "text": [
      "0 s\n",
      "1 t\n",
      "2 r\n",
      "3 i\n",
      "4 n\n",
      "5 g\n"
     ]
    }
   ],
   "source": [
    "example = \"string\"\n",
    "for index, character in enumerate(example):\n",
    "    print(index, character)"
   ]
  },
  {
   "cell_type": "markdown",
   "metadata": {},
   "source": [
    "    Meaning that I can access any character in the string by using the square brackets like I would with a list."
   ]
  },
  {
   "cell_type": "code",
   "execution_count": 245,
   "metadata": {
    "collapsed": false
   },
   "outputs": [
    {
     "name": "stdout",
     "output_type": "stream",
     "text": [
      "i\n"
     ]
    }
   ],
   "source": [
    "print(example[3]) # Should be equal to i"
   ]
  },
  {
   "cell_type": "markdown",
   "metadata": {},
   "source": [
    "    In this way I can simply roll through the string in a for loop, document the first occurence of each, and then check if its been documented already."
   ]
  },
  {
   "cell_type": "code",
   "execution_count": 284,
   "metadata": {
    "collapsed": false
   },
   "outputs": [
    {
     "name": "stdout",
     "output_type": "stream",
     "text": [
      "String contains non-unique characters\n",
      "String only has unique characters\n"
     ]
    }
   ],
   "source": [
    "def check_unique(string):\n",
    "    character_memory = {} \n",
    "\n",
    "    for character in string:\n",
    "        if character in character_memory:\n",
    "            character_memory.clear()\n",
    "            return print(\"String contains non-unique characters\")\n",
    "\n",
    "        else:\n",
    "            character_memory[character] = True\n",
    "    else:\n",
    "        character_memory.clear()\n",
    "        return print(\"String only has unique characters\")\n",
    "\n",
    "check_unique(\"The quick brown fox jumped over the lazy dog\")\n",
    "check_unique(\"abcdefghijklmnopqrstuvwxyz\")"
   ]
  },
  {
   "cell_type": "markdown",
   "metadata": {
    "collapsed": true
   },
   "source": [
    "    For some reason, %timeit breaks the algorithm. Running on an ubuntu machine looping 1000 times works, but here will return the wrong result. I suspect its an artifact of jupyter cacheing something, as the warning states. Either way, the execution time for check_unique is ~3 microseconds."
   ]
  },
  {
   "cell_type": "markdown",
   "metadata": {
    "collapsed": true
   },
   "source": [
    "### 1.2 Check if two strings are permutations of each other.\n",
    "#### Important questions to ask,\n",
    "    I think this falls into the same catagory as 1.1, so check that section again if you need to clarify what questions should be asked about strings.\n",
    "\n",
    "    Some people may get tripped up by this question because they feel that they need to be dictionary words, causing them to stop and try to figure out the intended output in their heads.\n",
    "    \n",
    "    However, just toss that idea out. This would probably be beyond the scope of a simple interview question, but it doesn't hurt to say how you would handle it. Just think: \"Do two strings contain exactly the same characters.\"\n",
    "    \n",
    "##### Thought Process\n",
    "    This is fairly simple assuming you know what a permutation is. A permutation is just a word that can be made from reorganizing another word.\n",
    "\n",
    "    An example would be cat, act, tac, cta. These are all permutations of 'cat'.\n",
    "\n",
    "    This means I should be able to just sort both strings, and they should then match. Keeping in mind that someone may enter UPPERCASE or lowercase, it is probably a good idea to normalize the strings.\n",
    "    \n",
    "##### Afterthought process\n",
    "    It occured to me that a permutation must have 'exactly' the same letters. Which means if they are different lengths, you can stop checking. They can't be permutations.\n",
    "    Beward of the 'is' vs '==' trap. The keyward 'is' checks if two objects have the same ID, not if they are equivalent."
   ]
  },
  {
   "cell_type": "code",
   "execution_count": 287,
   "metadata": {
    "collapsed": false
   },
   "outputs": [
    {
     "name": "stdout",
     "output_type": "stream",
     "text": [
      "It is not a permutation\n",
      "It is a permutation\n"
     ]
    }
   ],
   "source": [
    "def is_permutation(string1, string2):\n",
    "    if len(string1) == len(string2) and ''.join(sorted(string1)) == ''.join(sorted(string2)):\n",
    "        return print(\"It is a permutation\")\n",
    "    else:\n",
    "        return print(\"It is not a permutation\")\n",
    "\n",
    "is_permutation(\"cat\", \"cats\")\n",
    "is_permutation(\"cat\",\"act\")"
   ]
  },
  {
   "cell_type": "markdown",
   "metadata": {
    "collapsed": true
   },
   "source": [
    "### 1.2 Change all spaces in a string to %20\n",
    "\n",
    "#### Important questions to ask\n",
    "\n",
    "    \n",
    "##### Thought Process\n",
    "    This should be a simple matter of a find and replace. We can use the fact that the strings in python perform similar to lists.\n",
    "    \n",
    "##### Afterthought process\n",
    "    A note on memory: It is possible that if a reference is held, the memory will not be cleared. Therefore this may not be the best approach in terms of memory. \n",
    "    \n",
    "    A note on speed: You can't beat a C program! It is always better to use built in functions with python, here we see that the replace_spaces function I created is an order of magnitude slower than the built in string.replace(). I would also be willing to guess that this function is more memory efficient as well.\n"
   ]
  },
  {
   "cell_type": "code",
   "execution_count": 306,
   "metadata": {
    "collapsed": false
   },
   "outputs": [
    {
     "name": "stdout",
     "output_type": "stream",
     "text": [
      "100000 loops, best of 3: 2.5 µs per loop\n",
      "The slowest run took 6.26 times longer than the fastest. This could mean that an intermediate result is being cached.\n",
      "1000000 loops, best of 3: 356 ns per loop\n"
     ]
    }
   ],
   "source": [
    "def replace_spaces(string):\n",
    "    partial_string = ''\n",
    "    for character in string:\n",
    "        if character == ' ':\n",
    "            partial_string = partial_string + '%20'\n",
    "        else:\n",
    "            partial_string = partial_string + character\n",
    "    return #print(partial_string)\n",
    "%timeit replace_spaces('this is not url safe')\n",
    "\n",
    "string = 'this is not url safe'\n",
    "%timeit string.replace(' ', '%20')"
   ]
  },
  {
   "cell_type": "code",
   "execution_count": null,
   "metadata": {
    "collapsed": true
   },
   "outputs": [],
   "source": []
  },
  {
   "cell_type": "code",
   "execution_count": null,
   "metadata": {
    "collapsed": true
   },
   "outputs": [],
   "source": []
  }
 ],
 "metadata": {
  "kernelspec": {
   "display_name": "Python [Root]",
   "language": "python",
   "name": "Python [Root]"
  },
  "language_info": {
   "codemirror_mode": {
    "name": "ipython",
    "version": 3
   },
   "file_extension": ".py",
   "mimetype": "text/x-python",
   "name": "python",
   "nbconvert_exporter": "python",
   "pygments_lexer": "ipython3",
   "version": "3.5.2"
  }
 },
 "nbformat": 4,
 "nbformat_minor": 0
}
